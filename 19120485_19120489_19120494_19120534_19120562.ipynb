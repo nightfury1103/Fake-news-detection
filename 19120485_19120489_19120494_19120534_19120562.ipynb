{
 "cells": [
  {
   "cell_type": "markdown",
   "metadata": {},
   "source": [
    "# <font color='green'>ĐỒ ÁN 3: Fake news detection\n",
    "## Danh sách các thành viên và bảng phân công công việc:\n",
    "| STT | Họ và tên | MSSV | Nội dung công việc | Hoàn thành |\n",
    "| :--- | :---: | :---: | :---: | ---: |\n",
    "| 01 | Lưu Trường Dương | 19120489 |Tiền xử lý văn bản tiếng Việt, Mô hình hóa, EDA (khám phá dữ liệu), Deploy mô hình| 100%|\n",
    "| 02 | Nguyễn Phạm Quang Dũng | 19120485 |Mô hình hóa, Tiền xử lý văn bản tiếng Việt,EDA (khám phá dữ liệu), Deploy mô hình| 100% |\n",
    "| 03 | Huỳnh Quốc Duy | 19120494 |Mô hình hóa, EDA (khám phá dữ liệu), Deploy mô hình, Tiền xử lý văn bản tiếng Việt| 100% |\n",
    "| 04 | Phạm Đức Huy | 19120534 |EDA (khám phá dữ liệu), Tiền xử lý văn bản tiếng Việt, Mô hình hóa, Deploy mô hình| 100% |\n",
    "| 05 | Lê Thành Lộc | 19120562 |Deploy mô hình, Tiền xử lý văn bản tiếng Việt, Mô hình hóa, EDA (khám phá dữ liệu)| 100% |"
   ]
  },
  {
   "cell_type": "markdown",
   "metadata": {},
   "source": [
    "Link trang web streamlit đã deploy. [**Click here**](https://share.streamlit.io/nightfury1103/nm-khdl/main) <br>\n",
    "Link github chứa file streamlit . [**Click here**](https://github.com/nightfury1103/NM-KHDL.git)"
   ]
  },
  {
   "cell_type": "markdown",
   "metadata": {},
   "source": [
    "**Lưu ý:** Bài làm thuộc quyền sử hữu của các thành viên trong nhóm. Các thao tác chỉnh sửa góp ý cũng như trích dẫn phải được sự đồng ý của tác giả."
   ]
  },
  {
   "cell_type": "markdown",
   "metadata": {},
   "source": [
    "## Import"
   ]
  },
  {
   "cell_type": "markdown",
   "metadata": {},
   "source": [
    "Import các thư viện cần thiết. Ở phần này ta sẽ sử dụng các thư viện thường gặp ở bộ môn Nhập môn Khoa Học Dữ liệu. "
   ]
  },
  {
   "cell_type": "code",
   "execution_count": 52,
   "metadata": {},
   "outputs": [],
   "source": [
    "import pandas as pd \n",
    "import re\n",
    "import sys\n",
    "import seaborn as sns;\n",
    "from matplotlib import pyplot as plt\n",
    "from sklearn.model_selection import train_test_split\n",
    "from sklearn.feature_extraction.text import TfidfVectorizer"
   ]
  },
  {
   "cell_type": "markdown",
   "metadata": {},
   "source": [
    "## Dữ liệu"
   ]
  },
  {
   "cell_type": "markdown",
   "metadata": {},
   "source": [
    "- Tập dữ liệu 223 record bản tin tiếng Việt, gồm 2 nhãn: 1 (tin giả) và 0 (tin thật)"
   ]
  },
  {
   "cell_type": "code",
   "execution_count": 53,
   "metadata": {},
   "outputs": [
    {
     "data": {
      "text/html": [
       "<div>\n",
       "<style scoped>\n",
       "    .dataframe tbody tr th:only-of-type {\n",
       "        vertical-align: middle;\n",
       "    }\n",
       "\n",
       "    .dataframe tbody tr th {\n",
       "        vertical-align: top;\n",
       "    }\n",
       "\n",
       "    .dataframe thead th {\n",
       "        text-align: right;\n",
       "    }\n",
       "</style>\n",
       "<table border=\"1\" class=\"dataframe\">\n",
       "  <thead>\n",
       "    <tr style=\"text-align: right;\">\n",
       "      <th></th>\n",
       "      <th>text</th>\n",
       "      <th>domain</th>\n",
       "      <th>label</th>\n",
       "    </tr>\n",
       "  </thead>\n",
       "  <tbody>\n",
       "    <tr>\n",
       "      <th>0</th>\n",
       "      <td>Thủ tướng Abe cúi đầu xin lỗi vì hành động phi...</td>\n",
       "      <td>binhluan.biz</td>\n",
       "      <td>1</td>\n",
       "    </tr>\n",
       "    <tr>\n",
       "      <th>1</th>\n",
       "      <td>Thủ tướng Nhật cúi đầu xin lỗi vì tinh thần ph...</td>\n",
       "      <td>www.ipick.vn</td>\n",
       "      <td>1</td>\n",
       "    </tr>\n",
       "    <tr>\n",
       "      <th>2</th>\n",
       "      <td>Choáng! Cơ trưởng đeo khăn quàng quẩy banh nóc...</td>\n",
       "      <td>tintucqpvn.net</td>\n",
       "      <td>1</td>\n",
       "    </tr>\n",
       "    <tr>\n",
       "      <th>3</th>\n",
       "      <td>Chưa bao giờ nhạc Kpop lại dễ hát đến thế!!!\\n...</td>\n",
       "      <td>tintucqpvn.net</td>\n",
       "      <td>1</td>\n",
       "    </tr>\n",
       "    <tr>\n",
       "      <th>4</th>\n",
       "      <td>Đại học Hutech sẽ áp dụng cải cách \"Tiếq Việt\"...</td>\n",
       "      <td>www.gioitreviet.net</td>\n",
       "      <td>1</td>\n",
       "    </tr>\n",
       "  </tbody>\n",
       "</table>\n",
       "</div>"
      ],
      "text/plain": [
       "                                                text               domain  \\\n",
       "0  Thủ tướng Abe cúi đầu xin lỗi vì hành động phi...         binhluan.biz   \n",
       "1  Thủ tướng Nhật cúi đầu xin lỗi vì tinh thần ph...         www.ipick.vn   \n",
       "2  Choáng! Cơ trưởng đeo khăn quàng quẩy banh nóc...       tintucqpvn.net   \n",
       "3  Chưa bao giờ nhạc Kpop lại dễ hát đến thế!!!\\n...       tintucqpvn.net   \n",
       "4  Đại học Hutech sẽ áp dụng cải cách \"Tiếq Việt\"...  www.gioitreviet.net   \n",
       "\n",
       "   label  \n",
       "0      1  \n",
       "1      1  \n",
       "2      1  \n",
       "3      1  \n",
       "4      1  "
      ]
     },
     "execution_count": 53,
     "metadata": {},
     "output_type": "execute_result"
    }
   ],
   "source": [
    "df = pd.read_csv('data.csv')\n",
    "df1 = df.copy()\n",
    "df.head()"
   ]
  },
  {
   "cell_type": "code",
   "execution_count": 54,
   "metadata": {},
   "outputs": [
    {
     "data": {
      "text/plain": [
       "0    123\n",
       "1    100\n",
       "Name: label, dtype: int64"
      ]
     },
     "execution_count": 54,
     "metadata": {},
     "output_type": "execute_result"
    }
   ],
   "source": [
    "df['label'].value_counts()"
   ]
  },
  {
   "cell_type": "markdown",
   "metadata": {},
   "source": [
    "- Dữ liệu gồm **123** tin thật và **100** tin giả."
   ]
  },
  {
   "cell_type": "markdown",
   "metadata": {},
   "source": [
    "## Tiền xử lí văn bản Tiếng Việt"
   ]
  },
  {
   "cell_type": "markdown",
   "metadata": {},
   "source": [
    "### Lower case"
   ]
  },
  {
   "cell_type": "markdown",
   "metadata": {},
   "source": [
    "Thực hiện chuyển đổi tất cả các mẫu về dạng lower case qua đó thuận tiện cho các bước tiếp theo."
   ]
  },
  {
   "cell_type": "code",
   "execution_count": 55,
   "metadata": {},
   "outputs": [
    {
     "data": {
      "text/html": [
       "<div>\n",
       "<style scoped>\n",
       "    .dataframe tbody tr th:only-of-type {\n",
       "        vertical-align: middle;\n",
       "    }\n",
       "\n",
       "    .dataframe tbody tr th {\n",
       "        vertical-align: top;\n",
       "    }\n",
       "\n",
       "    .dataframe thead th {\n",
       "        text-align: right;\n",
       "    }\n",
       "</style>\n",
       "<table border=\"1\" class=\"dataframe\">\n",
       "  <thead>\n",
       "    <tr style=\"text-align: right;\">\n",
       "      <th></th>\n",
       "      <th>text</th>\n",
       "      <th>domain</th>\n",
       "      <th>label</th>\n",
       "    </tr>\n",
       "  </thead>\n",
       "  <tbody>\n",
       "    <tr>\n",
       "      <th>0</th>\n",
       "      <td>thủ tướng abe cúi đầu xin lỗi vì hành động phi...</td>\n",
       "      <td>binhluan.biz</td>\n",
       "      <td>1</td>\n",
       "    </tr>\n",
       "    <tr>\n",
       "      <th>1</th>\n",
       "      <td>thủ tướng nhật cúi đầu xin lỗi vì tinh thần ph...</td>\n",
       "      <td>www.ipick.vn</td>\n",
       "      <td>1</td>\n",
       "    </tr>\n",
       "    <tr>\n",
       "      <th>2</th>\n",
       "      <td>choáng! cơ trưởng đeo khăn quàng quẩy banh nóc...</td>\n",
       "      <td>tintucqpvn.net</td>\n",
       "      <td>1</td>\n",
       "    </tr>\n",
       "    <tr>\n",
       "      <th>3</th>\n",
       "      <td>chưa bao giờ nhạc kpop lại dễ hát đến thế!!! g...</td>\n",
       "      <td>tintucqpvn.net</td>\n",
       "      <td>1</td>\n",
       "    </tr>\n",
       "    <tr>\n",
       "      <th>4</th>\n",
       "      <td>đại học hutech sẽ áp dụng cải cách \"tiếq việt\"...</td>\n",
       "      <td>www.gioitreviet.net</td>\n",
       "      <td>1</td>\n",
       "    </tr>\n",
       "  </tbody>\n",
       "</table>\n",
       "</div>"
      ],
      "text/plain": [
       "                                                text               domain  \\\n",
       "0  thủ tướng abe cúi đầu xin lỗi vì hành động phi...         binhluan.biz   \n",
       "1  thủ tướng nhật cúi đầu xin lỗi vì tinh thần ph...         www.ipick.vn   \n",
       "2  choáng! cơ trưởng đeo khăn quàng quẩy banh nóc...       tintucqpvn.net   \n",
       "3  chưa bao giờ nhạc kpop lại dễ hát đến thế!!! g...       tintucqpvn.net   \n",
       "4  đại học hutech sẽ áp dụng cải cách \"tiếq việt\"...  www.gioitreviet.net   \n",
       "\n",
       "   label  \n",
       "0      1  \n",
       "1      1  \n",
       "2      1  \n",
       "3      1  \n",
       "4      1  "
      ]
     },
     "execution_count": 55,
     "metadata": {},
     "output_type": "execute_result"
    }
   ],
   "source": [
    "df['text'] = df['text'].apply(lambda x: \" \".join(x.lower() for x in x.split()))\n",
    "df.head()"
   ]
  },
  {
   "cell_type": "markdown",
   "metadata": {},
   "source": [
    "### Remove Stopwords"
   ]
  },
  {
   "cell_type": "markdown",
   "metadata": {},
   "source": [
    "Trong câu thoại, tin tức và lời nói thường ngày thì bất kì ngôn ngữ nào cũng phải có stopwords. Việc loại bỏ các stopword là vô cùng cần thiết trong việc xử lý ngôn ngữ tự nhiên. <br>\n",
    "Các cụm từ stopword được trích xuất từ file  **vietnamese_stopwords.txt** lấy từ [link github](https://github.com/stopwords/vietnamese-stopwords/blob/master/vietnamese-stopwords.txt).\n",
    "\n",
    "Để loại bỏ stopwords ta thực hiện lần lượt 3 bước:\n",
    "- Bước 1: đọc danh sách các stopwords từ link github ở trên, lưu vào list `vietnamese`\n",
    "- Bước 2: sort các từ trong list `vietnamese` , viết hàm `remove_stopwords` duyệt theo thứ tự sort giảm dần để đảm bảo luôn ưu tiên xóa các stopword dài nhất có thể\n",
    "- Bước 3: apply hàm `remove_stopwords`  cho cột `text` của `df`"
   ]
  },
  {
   "cell_type": "markdown",
   "metadata": {},
   "source": [
    "Bước 1:"
   ]
  },
  {
   "cell_type": "code",
   "execution_count": 56,
   "metadata": {},
   "outputs": [],
   "source": [
    "def get_stopwords_list(stop_file_path):\n",
    "    \"\"\"load stop words \"\"\"\n",
    "    with open(stop_file_path, 'r', encoding=\"utf-8\") as f:\n",
    "        stopwords = f.readlines()\n",
    "        stop_set = set(m.strip() for m in stopwords)\n",
    "        return list(frozenset(stop_set))\n",
    "vietnamese = get_stopwords_list('vietnamese_stopwords.txt')"
   ]
  },
  {
   "cell_type": "markdown",
   "metadata": {},
   "source": [
    "Bước 2:"
   ]
  },
  {
   "cell_type": "code",
   "execution_count": 57,
   "metadata": {},
   "outputs": [],
   "source": [
    "temp = vietnamese.copy()\n",
    "temp.sort()\n",
    "temp.reverse()\n",
    "\n",
    "def remove_stopwords(text):\n",
    "    text_list = text.split()\n",
    "    text_len = len(text_list)\n",
    "    for word in temp:\n",
    "        word_list = word.split()\n",
    "        word_len = len(word_list)\n",
    "        for i in range(text_len + 1 - word_len):\n",
    "            if text_list[i:i+word_len] == word_list:\n",
    "                text_list[i:i+word_len] = [None] * word_len\n",
    "    return ' '.join(t for t in text_list if t)"
   ]
  },
  {
   "cell_type": "markdown",
   "metadata": {},
   "source": [
    "Bước 3:"
   ]
  },
  {
   "cell_type": "code",
   "execution_count": 58,
   "metadata": {},
   "outputs": [],
   "source": [
    "df['text'] = df['text'].apply(remove_stopwords)"
   ]
  },
  {
   "cell_type": "markdown",
   "metadata": {},
   "source": [
    "### Remove noise\n",
    "Dùng regex để loại bỏ các kí tư gây nhiễu (HTML tag, các ký hiệu đặc biệt như @, #,...) thông qua hàm `remove_tag`"
   ]
  },
  {
   "cell_type": "code",
   "execution_count": 59,
   "metadata": {},
   "outputs": [],
   "source": [
    "TAG_1 = re.compile(r'<[^>]+>')\n",
    "TAG_2 = re.compile(\"[@#$]\")\n",
    "\n",
    "def remove_tags(text):\n",
    "    text = TAG_1.sub('', text)\n",
    "    return TAG_2.sub('', text)\n",
    "    \n",
    "df['text'] = df['text'].apply(lambda x: ' '.join(word for word in x.split() if word.isalnum()))"
   ]
  },
  {
   "cell_type": "code",
   "execution_count": 60,
   "metadata": {},
   "outputs": [
    {
     "data": {
      "text/plain": [
       "58    thời xinh gái chẳng nét mặt xinh xắn siêu thươ...\n",
       "Name: text, dtype: object"
      ]
     },
     "execution_count": 60,
     "metadata": {},
     "output_type": "execute_result"
    }
   ],
   "source": [
    "df['text'].sample()"
   ]
  },
  {
   "cell_type": "markdown",
   "metadata": {},
   "source": [
    "### Remove punctuation (loại bỏ dấu câu)"
   ]
  },
  {
   "cell_type": "markdown",
   "metadata": {},
   "source": [
    "Các dấu câu thường ngày thường không giúp ích gì nhiều trong việc nhận diện tin thật và giả. Nên ở đây ta sẽ loại bỏ luôn các dấu câu đó."
   ]
  },
  {
   "cell_type": "code",
   "execution_count": 61,
   "metadata": {},
   "outputs": [],
   "source": [
    "df['text'] = df['text'].apply(lambda x: re.sub(r'[^\\w\\s]', '', x))"
   ]
  },
  {
   "cell_type": "code",
   "execution_count": 62,
   "metadata": {},
   "outputs": [
    {
     "data": {
      "text/plain": [
       "'thủ tướng abe cúi đầu lỗi hành động phi thể thao tuyển nhật sankei thủ tướng nhật shinzo abe công khai gửi lỗi nhật hoàng toàn dân tinh thần thi đấu phi thể thao đội tuyển nhật world cup tối lượt trận vòng bảng world cup nhật phụ đội thua nhật vòng thẻ phạt thủ tướng nhật shinzo abe cúi đầu tinh thần võ sĩ đạo đội tuyển nhật hành động tinh thần thượng võ thi đấu world trích bất bình toàn hình ảnh kiên cường dân nhật đấu trường quốc đứng thành trách nhiệm gửi lỗi sâu sắc nhân abe cúi đầu trách nhiệm nhật nổi tiếng tinh trách nhiệm chất võ sĩ đội tuyển áo xanh mệnh danh nhật trích dội hâm mộ bóng đá lối bóng tiêu cố tình câu vé đi cụ phút trận vòng bảng trận colombia thắng senegal tỷ tỉ tương cầu thủ nhật hề gỡ cầu thủ nhật vui vẻ trận thua lan vé vòng 16 world cup fifa fair quy định 1 thẻ vàng 2 thẻ vàng thành thẻ đỏ thẻ đỏ nhật 4 thẻ vàng senegal sợ lãnh thẻ vàng nhật giết chết trận đấu phút liên tục chuyền bóng sân 5 phút cầu thủ nhật bóng sân đối bất chấp la huýt sáo cđv thầy trò hlv akira nishino dư luận kết nhật colombia hai đội đi tiếp bảng vòng trực nhật đối đầu đối thủ cực đt đội đi tiếp nhật colombia đt'"
      ]
     },
     "execution_count": 62,
     "metadata": {},
     "output_type": "execute_result"
    }
   ],
   "source": [
    "df['text'][0]"
   ]
  },
  {
   "cell_type": "markdown",
   "metadata": {},
   "source": [
    "## Khám phá dữ liệu"
   ]
  },
  {
   "cell_type": "markdown",
   "metadata": {},
   "source": [
    "### Ý nghĩa của từng trường thông tin\n"
   ]
  },
  {
   "cell_type": "markdown",
   "metadata": {},
   "source": [
    "- `text` chứa nội dung của bài báo\n",
    "- `domain` chứa nguồn của bài báo \n",
    "- `label` để phân loại bài báo đúng hay sai, 1 là Fake và 0 là Real"
   ]
  },
  {
   "cell_type": "markdown",
   "metadata": {},
   "source": [
    "### Kiểm tra dữ liệu bị thiếu, sai kiểu dữ liệu"
   ]
  },
  {
   "cell_type": "markdown",
   "metadata": {},
   "source": [
    "Dữ liệu có bị thiếu?"
   ]
  },
  {
   "cell_type": "code",
   "execution_count": 63,
   "metadata": {},
   "outputs": [
    {
     "data": {
      "text/plain": [
       "text      0\n",
       "domain    0\n",
       "label     0\n",
       "dtype: int64"
      ]
     },
     "execution_count": 63,
     "metadata": {},
     "output_type": "execute_result"
    }
   ],
   "source": [
    "df.isna().sum()"
   ]
  },
  {
   "cell_type": "markdown",
   "metadata": {},
   "source": [
    "Kiểu dữ liệu đã đúng hết chưa?"
   ]
  },
  {
   "cell_type": "code",
   "execution_count": 64,
   "metadata": {},
   "outputs": [
    {
     "data": {
      "text/plain": [
       "text      object\n",
       "domain    object\n",
       "label      int64\n",
       "dtype: object"
      ]
     },
     "execution_count": 64,
     "metadata": {},
     "output_type": "execute_result"
    }
   ],
   "source": [
    "df.dtypes"
   ]
  },
  {
   "cell_type": "markdown",
   "metadata": {},
   "source": [
    "### Kiểm tra phân bố class có chênh lệch hay không"
   ]
  },
  {
   "cell_type": "markdown",
   "metadata": {},
   "source": [
    "Kiểm tra số lượng label Fake và label Real"
   ]
  },
  {
   "cell_type": "code",
   "execution_count": 65,
   "metadata": {},
   "outputs": [
    {
     "data": {
      "text/plain": [
       "0    123\n",
       "1    100\n",
       "Name: label, dtype: int64"
      ]
     },
     "execution_count": 65,
     "metadata": {},
     "output_type": "execute_result"
    }
   ],
   "source": [
    "ax = df.label.value_counts()\n",
    "ax"
   ]
  },
  {
   "cell_type": "markdown",
   "metadata": {},
   "source": [
    "Biểu đồ so sánh 2 label"
   ]
  },
  {
   "cell_type": "code",
   "execution_count": 66,
   "metadata": {},
   "outputs": [
    {
     "data": {
      "image/png": "[encoded data removed]",
      "text/plain": [
       "<Figure size 360x360 with 1 Axes>"
      ]
     },
     "metadata": {},
     "output_type": "display_data"
    }
   ],
   "source": [
    "ax = ax.to_frame()\n",
    "\n",
    "ax.index = ['Fake','Real']\n",
    "ax.plot.pie(y='label',figsize=(5,5),autopct='%1.1f%%')\n",
    "plt.show()"
   ]
  },
  {
   "cell_type": "markdown",
   "metadata": {},
   "source": [
    "Như ta có thể thây số lượng label Fake và label Real không có quá chênh lệch, có thể dễ để mang lại hiệu quả cao trong quá trình học máy"
   ]
  },
  {
   "cell_type": "markdown",
   "metadata": {},
   "source": [
    "### Các thông tin thống kê của văn bản"
   ]
  },
  {
   "cell_type": "markdown",
   "metadata": {},
   "source": [
    "- Chiều dài mỗi record\n",
    "- Số ký tự ở mỗi record\n",
    "- Số câu ở mỗi record"
   ]
  },
  {
   "cell_type": "code",
   "execution_count": 67,
   "metadata": {},
   "outputs": [
    {
     "data": {
      "text/html": [
       "<div>\n",
       "<style scoped>\n",
       "    .dataframe tbody tr th:only-of-type {\n",
       "        vertical-align: middle;\n",
       "    }\n",
       "\n",
       "    .dataframe tbody tr th {\n",
       "        vertical-align: top;\n",
       "    }\n",
       "\n",
       "    .dataframe thead th {\n",
       "        text-align: right;\n",
       "    }\n",
       "</style>\n",
       "<table border=\"1\" class=\"dataframe\">\n",
       "  <thead>\n",
       "    <tr style=\"text-align: right;\">\n",
       "      <th></th>\n",
       "      <th>text</th>\n",
       "      <th>label</th>\n",
       "      <th>record_length</th>\n",
       "      <th>word_count</th>\n",
       "      <th>sentence_count</th>\n",
       "    </tr>\n",
       "  </thead>\n",
       "  <tbody>\n",
       "    <tr>\n",
       "      <th>0</th>\n",
       "      <td>Thủ tướng Abe cúi đầu xin lỗi vì hành động phi...</td>\n",
       "      <td>1</td>\n",
       "      <td>2244</td>\n",
       "      <td>482</td>\n",
       "      <td>1</td>\n",
       "    </tr>\n",
       "    <tr>\n",
       "      <th>1</th>\n",
       "      <td>Thủ tướng Nhật cúi đầu xin lỗi vì tinh thần ph...</td>\n",
       "      <td>1</td>\n",
       "      <td>884</td>\n",
       "      <td>188</td>\n",
       "      <td>1</td>\n",
       "    </tr>\n",
       "    <tr>\n",
       "      <th>2</th>\n",
       "      <td>Choáng! Cơ trưởng đeo khăn quàng quẩy banh nóc...</td>\n",
       "      <td>1</td>\n",
       "      <td>1232</td>\n",
       "      <td>240</td>\n",
       "      <td>1</td>\n",
       "    </tr>\n",
       "    <tr>\n",
       "      <th>3</th>\n",
       "      <td>Chưa bao giờ nhạc Kpop lại dễ hát đến thế!!!\\n...</td>\n",
       "      <td>1</td>\n",
       "      <td>3093</td>\n",
       "      <td>671</td>\n",
       "      <td>1</td>\n",
       "    </tr>\n",
       "    <tr>\n",
       "      <th>4</th>\n",
       "      <td>Đại học Hutech sẽ áp dụng cải cách \"Tiếq Việt\"...</td>\n",
       "      <td>1</td>\n",
       "      <td>8804</td>\n",
       "      <td>1943</td>\n",
       "      <td>1</td>\n",
       "    </tr>\n",
       "  </tbody>\n",
       "</table>\n",
       "</div>"
      ],
      "text/plain": [
       "                                                text  label  record_length  \\\n",
       "0  Thủ tướng Abe cúi đầu xin lỗi vì hành động phi...      1           2244   \n",
       "1  Thủ tướng Nhật cúi đầu xin lỗi vì tinh thần ph...      1            884   \n",
       "2  Choáng! Cơ trưởng đeo khăn quàng quẩy banh nóc...      1           1232   \n",
       "3  Chưa bao giờ nhạc Kpop lại dễ hát đến thế!!!\\n...      1           3093   \n",
       "4  Đại học Hutech sẽ áp dụng cải cách \"Tiếq Việt\"...      1           8804   \n",
       "\n",
       "   word_count  sentence_count  \n",
       "0         482               1  \n",
       "1         188               1  \n",
       "2         240               1  \n",
       "3         671               1  \n",
       "4        1943               1  "
      ]
     },
     "execution_count": 67,
     "metadata": {},
     "output_type": "execute_result"
    }
   ],
   "source": [
    "df1['record_length'] = df1['text'].apply(lambda x:len(x))\n",
    "df1['word_count'] = df1[\"text\"].apply(lambda x: len(str(x).split(\" \")))\n",
    "df1['sentence_count'] = df[\"text\"].apply(lambda x: len(str(x).split(\".\")))\n",
    "df1.drop(columns=\"domain\").head()"
   ]
  },
  {
   "cell_type": "markdown",
   "metadata": {},
   "source": [
    "Tìm hiểu thêm về số lượng kí tự"
   ]
  },
  {
   "cell_type": "markdown",
   "metadata": {},
   "source": [
    "1. Xem các thông số cơ bản của cột `word count`"
   ]
  },
  {
   "cell_type": "code",
   "execution_count": 68,
   "metadata": {},
   "outputs": [
    {
     "data": {
      "text/plain": [
       "count     223.000000\n",
       "mean      552.686099\n",
       "std       393.414288\n",
       "min        67.000000\n",
       "25%       281.000000\n",
       "50%       438.000000\n",
       "75%       718.000000\n",
       "max      2266.000000\n",
       "Name: word_count, dtype: float64"
      ]
     },
     "execution_count": 68,
     "metadata": {},
     "output_type": "execute_result"
    }
   ],
   "source": [
    "df1['word_count'].describe()"
   ]
  },
  {
   "cell_type": "markdown",
   "metadata": {},
   "source": [
    "2. Biểu đồ phân bố của `word_count`"
   ]
  },
  {
   "cell_type": "code",
   "execution_count": 69,
   "metadata": {},
   "outputs": [
    {
     "data": {
      "image/png": "[encoded data removed]",
      "text/plain": [
       "<Figure size 720x360 with 1 Axes>"
      ]
     },
     "metadata": {
      "needs_background": "light"
     },
     "output_type": "display_data"
    }
   ],
   "source": [
    "ax = sns.histplot(df1['word_count'])\n",
    "ax.set(xlabel = 'number word count',ylabel = 'number text', title='word count histplot');"
   ]
  },
  {
   "cell_type": "markdown",
   "metadata": {},
   "source": [
    "## Mô hình hóa "
   ]
  },
  {
   "cell_type": "markdown",
   "metadata": {},
   "source": [
    "### Tách dữ liệu"
   ]
  },
  {
   "cell_type": "markdown",
   "metadata": {},
   "source": [
    "Ta thực hiện các thao tác tách dữ liệu thành hai tập train và test với tỉ lệ là 75% và 25% (tỉ lệ thông thường) bằng hàm `train_test_split`"
   ]
  },
  {
   "cell_type": "code",
   "execution_count": 70,
   "metadata": {},
   "outputs": [],
   "source": [
    "x = df[\"text\"]\n",
    "y = df[\"label\"]\n",
    "X_train, X_test, y_train, y_test = train_test_split(x, y, \n",
    "                                                  random_state=42, \n",
    "                                                  test_size=0.25\n",
    "                                                     , shuffle=True\n",
    "                                                   )"
   ]
  },
  {
   "cell_type": "markdown",
   "metadata": {},
   "source": [
    "### Chuyển đổi dữ liệu"
   ]
  },
  {
   "cell_type": "markdown",
   "metadata": {},
   "source": [
    "Sau khi thực hiện tác tách dữ liệu bước tiếp theo ta sẽ thực hiện vector hóa các tập trainning và tập test. \n",
    "Ở phần này ta sẽ sử dụng mô hình vector hóa có sẵn là `TfidfVectorizer`.Một phương thức thống kê được biết đến rộng rãi nhất để xác định độ quan trọng của một từ trong đoạn văn bản trong một tập nhiều đoạn văn bản khác nhau. Nó thường được sử dụng như một trọng số trong việc khai phá dữ liệu văn bản. TF-IDF chuyển đổi dạng biểu diễn văn bản thành dạng không gian vector (VSM), hoặc thành những vector thưa thớt."
   ]
  },
  {
   "cell_type": "code",
   "execution_count": 71,
   "metadata": {},
   "outputs": [],
   "source": [
    "tfidf = TfidfVectorizer(min_df=2,max_df=0.8,  max_features=None,ngram_range=(1, 3), use_idf=1,smooth_idf=1,sublinear_tf=1)\n",
    "tftrain = tfidf.fit_transform(X_train)\n",
    "tftest = tfidf.transform(X_test)"
   ]
  },
  {
   "cell_type": "markdown",
   "metadata": {},
   "source": [
    "### Đồ thị hóa dữ liệu\n"
   ]
  },
  {
   "cell_type": "markdown",
   "metadata": {},
   "source": [
    "Nhìn chung ta thấy dữ liệu là dạng có nhãn mà nhãn này được phân thành hai lớp rõ rệt . Do đó, ở đây ta sẽ thử sử dụng PCA và xem xét xem liệu dữ liệu có nằm ở hai phía rõ rệt nhau hay không. Từ đó ta sẽ lựa chọn mô hình phù hợp cho bài toán này.\n",
    "Do đó, ta sẽ thử sử dụng PCA để giảm chiều giữa liệu thành dữ liệu 2 chiều để có thể mô hình hóa dữ liệu ở dạng này."
   ]
  },
  {
   "cell_type": "code",
   "execution_count": 72,
   "metadata": {},
   "outputs": [],
   "source": [
    "# 1. Choose the model class\n",
    "from sklearn.decomposition import TruncatedSVD\n",
    "# 2. Instantiate the model with hyperparameters\n",
    "model = TruncatedSVD(n_components=2)\n",
    "# 3. fit to data. Notice y not specified!\n",
    "model.fit(tftrain)\n",
    "# 4. tranform the data to two dimensions\n",
    "X_2D = model.transform(tftrain)"
   ]
  },
  {
   "cell_type": "code",
   "execution_count": 73,
   "metadata": {},
   "outputs": [],
   "source": [
    "visualization = pd.DataFrame(y_train)\n",
    "visualization['SVD1'] = X_2D[:, 0]\n",
    "visualization['SVD2'] = X_2D[:, 1]"
   ]
  },
  {
   "cell_type": "code",
   "execution_count": 74,
   "metadata": {},
   "outputs": [
    {
     "data": {
      "image/png": "[encoded data removed]",
      "text/plain": [
       "<Figure size 402.375x360 with 1 Axes>"
      ]
     },
     "metadata": {
      "needs_background": "light"
     },
     "output_type": "display_data"
    }
   ],
   "source": [
    "sns.lmplot(x=\"SVD1\", y=\"SVD2\", hue='label', \n",
    "           data=visualization, fit_reg=False);"
   ]
  },
  {
   "cell_type": "markdown",
   "metadata": {},
   "source": [
    "**Kết luận:** Nhìn vào đồ thị thì có vẻ dữ liệu phân lớp về hai phía đồ thị rất tốt. Dữ liệu chỉ có hai nhãn nên độ phức tạp trong đồ thị cũng không quá cao. Qua đó ta sẽ lựa chọn các mô hình học máy phù hợp ở phần sau."
   ]
  },
  {
   "cell_type": "markdown",
   "metadata": {},
   "source": [
    "### Training bằng các mô hình học máy"
   ]
  },
  {
   "cell_type": "markdown",
   "metadata": {},
   "source": [
    "#### Import các thư viện cho học máy"
   ]
  },
  {
   "cell_type": "code",
   "execution_count": 75,
   "metadata": {},
   "outputs": [],
   "source": [
    "from sklearn.linear_model import LogisticRegression\n",
    "from sklearn.metrics import accuracy_score\n",
    "from sklearn import metrics\n",
    "import pickle\n",
    "from sklearn.pipeline import Pipeline\n",
    "from sklearn.naive_bayes import MultinomialNB\n",
    "from sklearn.neural_network import MLPClassifier\n",
    "from sklearn.neighbors import KNeighborsClassifier\n",
    "from sklearn.ensemble import RandomForestClassifier\n",
    "import itertools"
   ]
  },
  {
   "cell_type": "markdown",
   "metadata": {},
   "source": [
    "#### Xây dựng confusion matrix để đánh giá hiệu suất của các thuật toán"
   ]
  },
  {
   "cell_type": "markdown",
   "metadata": {},
   "source": [
    "- Vì độ đo accuracy thông thường chỉ cho chúng ta biết được bao nhiêu phần trăm lượng dữ liệu được phân loại đúng mà không chỉ ra được cụ thể mỗi loại được phân loại như thế nào, lớp nào được phân loại đúng nhiều nhất, và dữ liệu thuộc lớp nào thường bị phân loại nhầm vào lớp khác. Để có thể đánh giá được các giá trị này, chúng ta sử dụng một ma trận được gọi là **confusion matrix**.\n",
    "- Confusion Matrix là một ma trận vuông với kích thước mỗi chiều bằng số lượng lớp dữ liệu. Giá trị tại hàng thứ i, cột thứ j là số lượng điểm lẽ ra thuộc vào class i nhưng lại được dự đoán là thuộc vào class j\n",
    "- Như với tập dữ liệu đang xét thì 2 class sẽ là **'Fake'** và **'News'**"
   ]
  },
  {
   "cell_type": "code",
   "execution_count": 76,
   "metadata": {},
   "outputs": [],
   "source": [
    "def plot_confusion_matrix(cm, classes,\n",
    "                          normalize=False,\n",
    "                          title='Confusion matrix',\n",
    "                          cmap=plt.cm.Blues):\n",
    "    plt.imshow(cm, interpolation='nearest', cmap=cmap)\n",
    "    plt.title(title)\n",
    "    plt.colorbar()\n",
    "    tick_marks = np.arange(len(classes))\n",
    "    plt.xticks(tick_marks, classes, rotation=45)\n",
    "    plt.yticks(tick_marks, classes)\n",
    "\n",
    "    if normalize:\n",
    "        cm = cm.astype('float') / cm.sum(axis=1)[:, np.newaxis]\n",
    "        print(\"Normalized confusion matrix\")\n",
    "    else:\n",
    "        print('Confusion matrix, without normalization')\n",
    "\n",
    "    thresh = cm.max() / 2.\n",
    "    for i, j in itertools.product(range(cm.shape[0]), range(cm.shape[1])):\n",
    "        plt.text(j, i, cm[i, j],\n",
    "                 horizontalalignment=\"center\",\n",
    "                 color=\"white\" if cm[i, j] > thresh else \"black\")\n",
    "\n",
    "    plt.tight_layout()\n",
    "    plt.ylabel('True label')\n",
    "    plt.xlabel('Predicted label')"
   ]
  },
  {
   "cell_type": "code",
   "execution_count": 77,
   "metadata": {},
   "outputs": [],
   "source": [
    "accuracy_dict = {}"
   ]
  },
  {
   "cell_type": "markdown",
   "metadata": {},
   "source": [
    "#### Logistic Regession"
   ]
  },
  {
   "cell_type": "markdown",
   "metadata": {},
   "source": [
    "- Logisitc Regression là một trong những thuật toán phân loại phổ biến nhất và cũng là một thuật toán khá đơn giản.\n",
    "- Với việc sử dụng để phân loại văn bản với đầu ra dạng nhị phân (Fake news/ Real news) thì mô hình Logistic Regession được sử dụng bởi nó cho thấy được tính trực quan để phân loại vấn đề thành nhị phân."
   ]
  },
  {
   "cell_type": "code",
   "execution_count": 78,
   "metadata": {},
   "outputs": [
    {
     "name": "stdout",
     "output_type": "stream",
     "text": [
      "Accuracy:   0.911\n",
      "Confusion matrix, without normalization\n"
     ]
    },
    {
     "data": {
      "image/png": "[encoded data removed]",
      "text/plain": [
       "<Figure size 720x360 with 2 Axes>"
      ]
     },
     "metadata": {
      "needs_background": "light"
     },
     "output_type": "display_data"
    }
   ],
   "source": [
    "model = LogisticRegression()\n",
    "model.fit(tftrain,y_train)\n",
    "\n",
    "pred = model.predict(tftest)\n",
    "score = accuracy_score(y_test, pred)\n",
    "accuracy_dict['Logistic Regession'] = score\n",
    "print(\"Accuracy:   %0.3f\" % score)\n",
    "cm = metrics.confusion_matrix(y_test, pred)\n",
    "plot_confusion_matrix(cm, classes=['FAKE', 'REAL'])"
   ]
  },
  {
   "cell_type": "markdown",
   "metadata": {},
   "source": [
    "**Nhận xét:** Từ confusion matrix ta có thể thấy có tổng cộng 31 Fake news nhưng đã có 1 phân loại nhầm vào Real news và có 25 Real news nhưng cũng đã có 4 tin được phân loại vào Fake news. Từ đó ta có thể tính được độ chính xác $ \\frac{(21+30)}{56} \\approx 0.911$.\n",
    "Với việc đầu ra dạng nhị phân như bài toán Fake news thì Logistic Regession chạy khá tốt mặc dù đây là mô hình tương đối là đơn giản."
   ]
  },
  {
   "cell_type": "markdown",
   "metadata": {},
   "source": [
    "- Tạo pickle cho việc deploy mô hình bằng streamlit."
   ]
  },
  {
   "cell_type": "code",
   "execution_count": 79,
   "metadata": {},
   "outputs": [],
   "source": [
    "model_pipe = Pipeline([('tfidf',tfidf),('log',model)])\n",
    "model_pipe.fit(X_train,y_train)\n",
    "\n",
    "### Create a Pickle file using serialization \n",
    "pickle_out = open(\"log_classifier.pkl\",\"wb\")\n",
    "pickle.dump(model_pipe, pickle_out)\n",
    "pickle_out.close()"
   ]
  },
  {
   "cell_type": "markdown",
   "metadata": {},
   "source": [
    "#### Naive-Bayes"
   ]
  },
  {
   "cell_type": "markdown",
   "metadata": {},
   "source": [
    "- Thuật toán Naive-Bayes là một thuật toán phân loại cho các vấn đề phân loại nhị phân (hai lớp) và đa lớp. Kỹ thuật này dễ hiểu nhất khi được mô tả bằng các giá trị đầu vào nhị phân hoặc phân loại.\n",
    "- ```Multinominal Naive Bayes``` là một mô hình được chủ yếu sử dụng trong việc phân loại văn bản mà feature vectors được tính bằng ```Bags of Word``` rất thích hợp trong bài toán fake news."
   ]
  },
  {
   "cell_type": "code",
   "execution_count": 80,
   "metadata": {},
   "outputs": [
    {
     "name": "stdout",
     "output_type": "stream",
     "text": [
      "Accuracy:   0.911\n",
      "Confusion matrix, without normalization\n"
     ]
    },
    {
     "data": {
      "image/png": "[encoded data removed]",
      "text/plain": [
       "<Figure size 720x360 with 2 Axes>"
      ]
     },
     "metadata": {
      "needs_background": "light"
     },
     "output_type": "display_data"
    }
   ],
   "source": [
    "classifier=MultinomialNB()\n",
    "classifier.fit(tftrain,y_train)\n",
    "pred = classifier.predict(tftest)\n",
    "score = accuracy_score(y_test, pred)\n",
    "print(\"Accuracy:   %0.3f\" % score)\n",
    "accuracy_dict['Naive Bayes'] = score\n",
    "cm = metrics.confusion_matrix(y_test, pred)\n",
    "plot_confusion_matrix(cm, classes=['FAKE', 'REAL'])"
   ]
  },
  {
   "cell_type": "markdown",
   "metadata": {},
   "source": [
    "**Nhận xét:** kết quả chạy của Naive Bayes khá tương tự với Logistic Regession, ta vẫn có độ chính xác là $ \\frac{(21+30)}{56} \\approx 0.911$. Multinominal Naive Bayes thích hợp cho việc chạy trên cả bộ dữ liệu lớn hay nhỏ đều có thể đưa ra kết quả với độ chính xác cao."
   ]
  },
  {
   "cell_type": "markdown",
   "metadata": {},
   "source": [
    "- Tạo pickle cho việc deploy mô hình bằng streamlit."
   ]
  },
  {
   "cell_type": "code",
   "execution_count": 81,
   "metadata": {},
   "outputs": [],
   "source": [
    "model_pipe = Pipeline([('tfidf',tfidf),('naive_bayes',classifier)])\n",
    "model_pipe.fit(X_train,y_train)\n",
    "\n",
    "### Create a Pickle file using serialization \n",
    "\n",
    "pickle_out = open(\"naivebayes_classifier.pkl\",\"wb\")\n",
    "pickle.dump(model_pipe, pickle_out)\n",
    "pickle_out.close()"
   ]
  },
  {
   "cell_type": "markdown",
   "metadata": {},
   "source": [
    "#### K Neighbors"
   ]
  },
  {
   "cell_type": "markdown",
   "metadata": {},
   "source": [
    "Thuật toán K Neighbors là một kĩ thuật học có giám sát (supervised learning) dùng để phân loại quan sát mới bằng cách tìm điểm tương đồng giữa quan sát mới này với dữ liệu sẵn có. Với bộ dữ liệu ít có điểm nhiễu(trên đồ thị đã PCA giảm chiều) thì K Neighbors cũng là một thuật toán hợp lí với độ phức tạp của quá trình training là 0.\n",
    "- Cần chọn giá trị `n_neighbors` phù hợp với tập dữ liệu. Với tập dữ liệu ta chọn n_neighbors = 3\n",
    "- Xác định `thước đo đúng để tính khoảng cách` giữa đối tượng cần phân lớp với các đối tượng còn lại trong cơ sở dữ liệu. Ta chọn thước đo là khoảng cách minkowski"
   ]
  },
  {
   "cell_type": "code",
   "execution_count": 82,
   "metadata": {},
   "outputs": [
    {
     "name": "stdout",
     "output_type": "stream",
     "text": [
      "Accuracy:   0.929\n",
      "Confusion matrix, without normalization\n"
     ]
    },
    {
     "data": {
      "image/png": "[encoded data removed]",
      "text/plain": [
       "<Figure size 720x360 with 2 Axes>"
      ]
     },
     "metadata": {
      "needs_background": "light"
     },
     "output_type": "display_data"
    }
   ],
   "source": [
    "classifier= KNeighborsClassifier(n_neighbors=3,weights='uniform',metric='minkowski')\n",
    "\n",
    "classifier.fit(tftrain,y_train)\n",
    "pred = classifier.predict(tftest)\n",
    "score = accuracy_score(y_test, pred)\n",
    "accuracy_dict['K Neighbors'] = score\n",
    "print(\"Accuracy:   %0.3f\" % score)\n",
    "\n",
    "cm = metrics.confusion_matrix(y_test, pred)\n",
    "plot_confusion_matrix(cm, classes=['FAKE', 'REAL'])"
   ]
  },
  {
   "cell_type": "markdown",
   "metadata": {},
   "source": [
    "**Nhận xét:** Kết quả cho thấy độ chính xác của K Neighbors lên đến $ \\frac{(28+24)}{56} \\approx 0.929$. Nhờ vào việc chọn giá trị tham số ```n_neighbors``` phù hợp *(=3)* cộng thêm bộ dữ liệu không có điểm nhiễu thì mô hình đã cho ra kết quả chạy tối ưu."
   ]
  },
  {
   "cell_type": "markdown",
   "metadata": {},
   "source": [
    "- Tạo pickle cho việc deploy mô hình bằng streamlit."
   ]
  },
  {
   "cell_type": "code",
   "execution_count": 83,
   "metadata": {},
   "outputs": [],
   "source": [
    "model_pipe = Pipeline([('tfidf',tfidf),('Kneighbor',classifier)])\n",
    "model_pipe.fit(X_train,y_train)\n",
    "\n",
    "### Create a Pickle file using serialization \n",
    "\n",
    "pickle_out = open(\"Kneighbor_classifier.pkl\",\"wb\")\n",
    "pickle.dump(model_pipe, pickle_out)\n",
    "pickle_out.close()"
   ]
  },
  {
   "cell_type": "markdown",
   "metadata": {},
   "source": [
    "#### Random Forest"
   ]
  },
  {
   "cell_type": "markdown",
   "metadata": {},
   "source": [
    "- Random Forest là một mô hình học tập có giám sát. Đây là một nâng cấp của Decision Tree, bao gồm một số lượng lớn cây quyết định hoạt động riêng lẻ để dự đoán kết quả của một lớp."
   ]
  },
  {
   "cell_type": "code",
   "execution_count": 84,
   "metadata": {},
   "outputs": [
    {
     "name": "stdout",
     "output_type": "stream",
     "text": [
      "Accuracy:   0.893\n",
      "Confusion matrix, without normalization\n"
     ]
    },
    {
     "data": {
      "image/png": "[encoded data removed]",
      "text/plain": [
       "<Figure size 720x360 with 2 Axes>"
      ]
     },
     "metadata": {
      "needs_background": "light"
     },
     "output_type": "display_data"
    }
   ],
   "source": [
    "classifier = RandomForestClassifier(random_state=0)\n",
    "classifier.fit(tftrain, y_train)\n",
    "pred = classifier.predict(tftest)\n",
    "score = accuracy_score(y_test, pred)\n",
    "accuracy_dict['Random Forest'] = score\n",
    "print(\"Accuracy:   %0.3f\" % score)\n",
    "\n",
    "cm = metrics.confusion_matrix(y_test, pred)\n",
    "plot_confusion_matrix(cm, classes=['FAKE', 'REAL'])"
   ]
  },
  {
   "cell_type": "markdown",
   "metadata": {},
   "source": [
    "**Nhận xét:** Với độ chính xác $ \\frac{(29+21)}{56} \\approx 0.893$ thì Random Forest cũng là một mô hình tốt để sử dụng trong việc phát hiện Fake news, và có thể sử dụng hiệu quả ở các tập dữ liệu lớn."
   ]
  },
  {
   "cell_type": "markdown",
   "metadata": {},
   "source": [
    "- Tạo pickle cho việc deploy mô hình bằng streamlit."
   ]
  },
  {
   "cell_type": "code",
   "execution_count": 85,
   "metadata": {},
   "outputs": [],
   "source": [
    "model_pipe = Pipeline([('tfidf',tfidf),('RandomForest',classifier)])\n",
    "model_pipe.fit(X_train,y_train)\n",
    "\n",
    "### Create a Pickle file using serialization \n",
    "pickle_out = open(\"RandomForest_classifier.pkl\",\"wb\")\n",
    "pickle.dump(model_pipe, pickle_out)\n",
    "pickle_out.close()"
   ]
  },
  {
   "cell_type": "markdown",
   "metadata": {},
   "source": [
    "#### Deep Learning: Neural Network"
   ]
  },
  {
   "cell_type": "markdown",
   "metadata": {},
   "source": [
    "Ngày nay, deep learning đang nổi lên như một nhóm thuật toán dựa hệ thống mạng neuron (Neural Network) để giải các bài toán thông thường với hiệu suất cao hơn cả machine learning.\n",
    "Với tập dữ liệu này, ta sẽ sử dụng mô hình  MLP (Multilayer Perceptron) để phân lớp. Các siêu tham số ban đầu là :\n",
    "- `hidden_layer_sizes`=(50): sử dụng 1 hidden layer với 50 neuron\n",
    "- `activation`='relu': chọn hàm relu (f(x) = max(0, x)) làm hàm kích hoạt\n",
    "- `solver`='lbfgs' :  hàm tinh chỉnh weight là lbfgs vì nó hội tụ nhanh hơn và hoạt động tốt hơn đối với tập dữ liệu nhỏ\n",
    "- `max_iter`=10000: số lần lặp tối đa nếu chưa hội tụ"
   ]
  },
  {
   "cell_type": "markdown",
   "metadata": {},
   "source": [
    "- Thêm siêu tham số ``alpha`` từ **0-100** để tìm ra giá trị Accuracy tốt nhất.\n"
   ]
  },
  {
   "cell_type": "code",
   "execution_count": 86,
   "metadata": {},
   "outputs": [
    {
     "name": "stdout",
     "output_type": "stream",
     "text": [
      "Best accuracy score is 0.928571 with alpha= 0.01\n"
     ]
    },
    {
     "data": {
      "text/plain": [
       "'Finish!'"
      ]
     },
     "execution_count": 86,
     "metadata": {},
     "output_type": "execute_result"
    }
   ],
   "source": [
    "train_accs = []\n",
    "val_accs = []\n",
    "alphas = [0,0.01,0.1, 1, 10, 100]\n",
    "best_val_acc = 0\n",
    "best_alpha = None\n",
    "get_parameters = []\n",
    "for alpha in alphas:\n",
    "    model = MLPClassifier(hidden_layer_sizes=(50), activation='relu', solver='lbfgs', random_state=0, \n",
    "                            max_iter=10000, alpha=alpha)\n",
    "    model.fit(tftrain, y_train)\n",
    "    val_y_predict = model.predict(tftest)\n",
    "    # calculate accuracy\n",
    "    val_err = model.score(tftest, y_test)\n",
    "    val_accs.append(val_err)\n",
    "    # get alpha and num_top_cp_values\n",
    "    get_parameters.append((alpha))\n",
    "best_val_acc = max(val_accs)\n",
    "best_alpha = get_parameters[val_accs.index(max(val_accs))]\n",
    "print(f'Best accuracy score is {round(best_val_acc,6)} with alpha= {best_alpha}')\n",
    "'Finish!'"
   ]
  },
  {
   "cell_type": "markdown",
   "metadata": {},
   "source": [
    "- Training với siêu tham số alpha tốt nhất."
   ]
  },
  {
   "cell_type": "code",
   "execution_count": 87,
   "metadata": {},
   "outputs": [
    {
     "name": "stdout",
     "output_type": "stream",
     "text": [
      "Accuracy:   0.929\n",
      "Confusion matrix, without normalization\n"
     ]
    },
    {
     "data": {
      "image/png": "[encoded data removed]",
      "text/plain": [
       "<Figure size 720x360 with 2 Axes>"
      ]
     },
     "metadata": {
      "needs_background": "light"
     },
     "output_type": "display_data"
    }
   ],
   "source": [
    "classifier=MLPClassifier(alpha=best_alpha,hidden_layer_sizes=(50), activation='relu', solver='lbfgs', random_state=0, max_iter=10000)\n",
    "\n",
    "classifier.fit(tftrain,y_train)\n",
    "pred = classifier.predict(tftest)\n",
    "score = accuracy_score(y_test, pred)\n",
    "accuracy_dict['Neurual Network'] = score\n",
    "print(\"Accuracy:   %0.3f\" % score)\n",
    "cm = metrics.confusion_matrix(y_test, pred)\n",
    "plot_confusion_matrix(cm, classes=['FAKE', 'REAL'])"
   ]
  },
  {
   "cell_type": "markdown",
   "metadata": {},
   "source": [
    "**Nhận xét:** Là mô hình kì vọng nhất trong tất cả 5 mô hình chúng em đưa ra. Không phải ngẫu nhiên mà mô hình này được đưa vào báo cáo và được xếp ở cuối cùng trong phần này. Kết quả ở mô hình này qua các lần test đều cho ra kết quả thường là cao nhất trong 5 mô hình. Dựa vào kết quả của mỗi lần test thì phải nói đây là mô hình có độ chính xác ổn định nhất. Mặc dù vậy do dữ liệu khi chia là ngẫu nhiên nên không thể phủ nhận là sẽ có trường hợp mô hình chạy không phải là tốt nhất và thời gian chạy của mô hình này cũng là lâu nhất. Do đó, đối với tập dữ liệu lớn hơn thì nhóm em sẽ có chiến lược khác với mô hình này hoặc là sử dụng một mô hình học máy khác. "
   ]
  },
  {
   "cell_type": "markdown",
   "metadata": {},
   "source": [
    "- Tạo pickle cho việc deploy mô hình bằng streamlit."
   ]
  },
  {
   "cell_type": "code",
   "execution_count": 88,
   "metadata": {},
   "outputs": [],
   "source": [
    "model_pipe = Pipeline([('tfidf',tfidf),('mlp',classifier)])\n",
    "model_pipe.fit(X_train,y_train)\n",
    "\n",
    "### Create a Pickle file using serialization \n",
    "pickle_out = open(\"mlp_classifier.pkl\",\"wb\")\n",
    "pickle.dump(model_pipe, pickle_out)\n",
    "pickle_out.close()"
   ]
  },
  {
   "cell_type": "markdown",
   "metadata": {},
   "source": [
    "#### Tổng quát:"
   ]
  },
  {
   "cell_type": "code",
   "execution_count": 89,
   "metadata": {},
   "outputs": [
    {
     "data": {
      "image/png": "[encoded data removed]",
      "text/plain": [
       "<Figure size 720x360 with 1 Axes>"
      ]
     },
     "metadata": {
      "needs_background": "light"
     },
     "output_type": "display_data"
    }
   ],
   "source": [
    "x = accuracy_dict.keys()\n",
    "y = accuracy_dict.values()\n",
    "bars = plt.bar(x,y,width=0.5)\n",
    "plt.ylim([0.0,1.0])\n",
    "\n",
    "xlocs, xlabs = plt.xticks()\n",
    "xlocs=[i for i in x]\n",
    "xlabs=[i for i in x]\n",
    "plt.ylabel('Test Accuracy')\n",
    "plt.xticks(xlocs, xlabs)\n",
    "for bar in bars:\n",
    "    yval = bar.get_height()\n",
    "    plt.text(bar.get_x()+ 0.05, yval + .01, round(yval,3))\n",
    "plt.rcParams[\"figure.figsize\"] = [10,5]\n",
    "plt.title(\"Accuracy of each model\")\n",
    "plt.show()"
   ]
  }
 ],
 "metadata": {
  "interpreter": {
   "hash": "47579162945f248bf594bb80bafa1f1c1494a0ffd44cc646a6f113fff71b4c7c"
  },
  "kernelspec": {
   "display_name": "Python 3 (ipykernel)",
   "language": "python",
   "name": "python3"
  },
  "language_info": {
   "codemirror_mode": {
    "name": "ipython",
    "version": 3
   },
   "file_extension": ".py",
   "mimetype": "text/x-python",
   "name": "python",
   "nbconvert_exporter": "python",
   "pygments_lexer": "ipython3",
   "version": "3.8.8"
  },
  "toc": {
   "base_numbering": 1,
   "nav_menu": {},
   "number_sections": true,
   "sideBar": true,
   "skip_h1_title": false,
   "title_cell": "Table of Contents",
   "title_sidebar": "Contents",
   "toc_cell": false,
   "toc_position": {
    "height": "calc(100% - 180px)",
    "left": "10px",
    "top": "150px",
    "width": "432.188px"
   },
   "toc_section_display": true,
   "toc_window_display": true
  }
 },
 "nbformat": 4,
 "nbformat_minor": 2
}
